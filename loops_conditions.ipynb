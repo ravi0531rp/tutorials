{
 "cells": [
  {
   "cell_type": "code",
   "execution_count": 3,
   "metadata": {},
   "outputs": [],
   "source": [
    "a = [\"Ravi\", \"Shruti\", \"Sourav\", \"Nupur\"]\n",
    "b = [2,3,4,6]\n",
    "c = \"Ravi\"\n",
    "d = 34\n"
   ]
  },
  {
   "cell_type": "code",
   "execution_count": 2,
   "metadata": {},
   "outputs": [
    {
     "name": "stdout",
     "output_type": "stream",
     "text": [
      "4 6\n"
     ]
    }
   ],
   "source": [
    "# Q : print the length of all the elements in the list\n",
    "\n",
    "len_0  = len(a[0])\n",
    "len_1  = len(a[1])\n",
    "\n",
    "print(len_0, len_1)"
   ]
  },
  {
   "cell_type": "code",
   "execution_count": 4,
   "metadata": {},
   "outputs": [],
   "source": [
    "# we need some way to LOOP through an ITERABLE OBJECT (list, string)\n",
    "\n"
   ]
  },
  {
   "cell_type": "code",
   "execution_count": 8,
   "metadata": {},
   "outputs": [
    {
     "name": "stdout",
     "output_type": "stream",
     "text": [
      "Ravi\n",
      "4\n",
      "Work is done\n",
      "Shruti\n",
      "6\n",
      "Work is done\n"
     ]
    }
   ],
   "source": [
    "# 'for' loops\n",
    "# syntax\n",
    "a = [\"Ravi\", \"Shruti\"]\n",
    "\n",
    "for item in a: # notice the indentaion\n",
    "    print(item)\n",
    "    print(len(item))\n",
    "\n",
    "print(\"Work is done\")\n",
    "\n",
    "# ALl the code that is indented is inside the loop\n",
    "# And if we want to write something outside the loop, we should not indent it"
   ]
  },
  {
   "cell_type": "code",
   "execution_count": null,
   "metadata": {},
   "outputs": [],
   "source": [
    "code = \"asidy0qdu0wqd092e80dlskd08ewe032ue-913e802duewu032e8\"\n",
    "\n",
    "for var in code:\n",
    "    print(var)\n",
    "\n",
    "\n",
    "# Syntax\n",
    "# for var in iterable_object:\n",
    "#     code inside loop"
   ]
  },
  {
   "cell_type": "code",
   "execution_count": 12,
   "metadata": {},
   "outputs": [
    {
     "name": "stdout",
     "output_type": "stream",
     "text": [
      "15\n",
      "1\n",
      "25\n",
      "2\n",
      "35\n",
      "0\n"
     ]
    }
   ],
   "source": [
    "my_list = [10,20,30]\n",
    "\n",
    "for a in my_list:\n",
    "    print(a+5)\n",
    "    print(a%3) # a modulo 3"
   ]
  },
  {
   "cell_type": "code",
   "execution_count": 25,
   "metadata": {},
   "outputs": [
    {
     "name": "stdout",
     "output_type": "stream",
     "text": [
      "0\n",
      "1\n",
      "2\n"
     ]
    }
   ],
   "source": [
    "index_list = [0,1,2]\n",
    "for index in index_list:\n",
    "    print(index)"
   ]
  },
  {
   "cell_type": "code",
   "execution_count": 26,
   "metadata": {},
   "outputs": [
    {
     "name": "stdout",
     "output_type": "stream",
     "text": [
      "0\n",
      "1\n",
      "2\n"
     ]
    }
   ],
   "source": [
    "for index in range(3):\n",
    "    print(index)"
   ]
  },
  {
   "cell_type": "code",
   "execution_count": 28,
   "metadata": {},
   "outputs": [
    {
     "name": "stdout",
     "output_type": "stream",
     "text": [
      "Current Index is  0\n",
      "23\n",
      "Current Index is  1\n",
      "45\n",
      "Current Index is  2\n",
      "67\n"
     ]
    }
   ],
   "source": [
    "my_list = [23,45,67,78]\n",
    "\n",
    "for index in range(3):\n",
    "    print(\"Current Index is \", index)\n",
    "    print(my_list[index])\n"
   ]
  },
  {
   "cell_type": "code",
   "execution_count": 29,
   "metadata": {},
   "outputs": [
    {
     "data": {
      "text/plain": [
       "4"
      ]
     },
     "execution_count": 29,
     "metadata": {},
     "output_type": "execute_result"
    }
   ],
   "source": [
    "len(my_list)"
   ]
  },
  {
   "cell_type": "code",
   "execution_count": 31,
   "metadata": {},
   "outputs": [
    {
     "data": {
      "text/plain": [
       "78"
      ]
     },
     "execution_count": 31,
     "metadata": {},
     "output_type": "execute_result"
    }
   ],
   "source": [
    "my_list[3]"
   ]
  },
  {
   "cell_type": "code",
   "execution_count": 33,
   "metadata": {},
   "outputs": [
    {
     "data": {
      "text/plain": [
       "range(0, 3)"
      ]
     },
     "execution_count": 33,
     "metadata": {},
     "output_type": "execute_result"
    }
   ],
   "source": [
    "range(len(my_list) - 1)"
   ]
  },
  {
   "cell_type": "code",
   "execution_count": 32,
   "metadata": {},
   "outputs": [
    {
     "data": {
      "text/plain": [
       "[0, 1, 2]"
      ]
     },
     "execution_count": 32,
     "metadata": {},
     "output_type": "execute_result"
    }
   ],
   "source": [
    "list(range(len(my_list) - 1))"
   ]
  },
  {
   "cell_type": "code",
   "execution_count": 35,
   "metadata": {},
   "outputs": [
    {
     "name": "stdout",
     "output_type": "stream",
     "text": [
      "Current Index is  0 Current Value is 23\n",
      "23.0\n",
      "Current Index is  1 Current Value is 45\n",
      "22.5\n",
      "Current Index is  2 Current Value is 67\n",
      "22.333333333333332\n",
      "Current Index is  3 Current Value is 78\n",
      "19.5\n"
     ]
    }
   ],
   "source": [
    "# Go through the list and print the value at any index + 1 divided by the index\n",
    "my_list = [23,45,67,78]\n",
    "\n",
    "for index in range(len(my_list)): # index will go through values 0 to len(my_list) - 1\n",
    "    print(\"Current Index is \", index, \"Current Value is\", my_list[index])\n",
    "    print(my_list[index]  / (index + 1))"
   ]
  },
  {
   "cell_type": "code",
   "execution_count": 15,
   "metadata": {},
   "outputs": [
    {
     "data": {
      "text/plain": [
       "4"
      ]
     },
     "execution_count": 15,
     "metadata": {},
     "output_type": "execute_result"
    }
   ],
   "source": [
    "len(my_list)"
   ]
  },
  {
   "cell_type": "code",
   "execution_count": null,
   "metadata": {},
   "outputs": [],
   "source": [
    "## Range is a function that generates numbers from 0 to n-1\n",
    "## range(n) -> 0,1,2,3,4,5,6,7,8,9,10,11,12,13,14,15,16,17,18,19,...n-1"
   ]
  },
  {
   "cell_type": "code",
   "execution_count": 20,
   "metadata": {},
   "outputs": [
    {
     "name": "stdout",
     "output_type": "stream",
     "text": [
      "[0, 1, 2, 3]\n"
     ]
    }
   ],
   "source": [
    "print(list(range(len(my_list))))"
   ]
  },
  {
   "cell_type": "code",
   "execution_count": 19,
   "metadata": {},
   "outputs": [
    {
     "name": "stdout",
     "output_type": "stream",
     "text": [
      "[0, 1, 2, 3, 4, 5, 6, 7, 8, 9]\n"
     ]
    }
   ],
   "source": [
    "print(list(range(10)))"
   ]
  },
  {
   "cell_type": "code",
   "execution_count": null,
   "metadata": {},
   "outputs": [],
   "source": []
  },
  {
   "cell_type": "code",
   "execution_count": null,
   "metadata": {},
   "outputs": [],
   "source": []
  }
 ],
 "metadata": {
  "kernelspec": {
   "display_name": "MLEVIN",
   "language": "python",
   "name": "python3"
  },
  "language_info": {
   "codemirror_mode": {
    "name": "ipython",
    "version": 3
   },
   "file_extension": ".py",
   "mimetype": "text/x-python",
   "name": "python",
   "nbconvert_exporter": "python",
   "pygments_lexer": "ipython3",
   "version": "3.9.15"
  }
 },
 "nbformat": 4,
 "nbformat_minor": 2
}
